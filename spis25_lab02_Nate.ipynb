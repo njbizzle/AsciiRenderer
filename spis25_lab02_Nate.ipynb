{
  "nbformat": 4,
  "nbformat_minor": 0,
  "metadata": {
    "colab": {
      "provenance": [],
      "authorship_tag": "ABX9TyPw2wQbKhh6aS+On5ZqmU4v",
      "include_colab_link": true
    },
    "kernelspec": {
      "name": "python3",
      "display_name": "Python 3"
    },
    "language_info": {
      "name": "python"
    }
  },
  "cells": [
    {
      "cell_type": "markdown",
      "metadata": {
        "id": "view-in-github",
        "colab_type": "text"
      },
      "source": [
        "<a href=\"https://colab.research.google.com/github/njbizzle/AsciiRenderer/blob/main/spis25_lab02_Nate.ipynb\" target=\"_parent\"><img src=\"https://colab.research.google.com/assets/colab-badge.svg\" alt=\"Open In Colab\"/></a>"
      ]
    },
    {
      "cell_type": "code",
      "source": [
        "def sumTwo(a,b):\n",
        "  c = a + b\n",
        "  return c\n",
        "\n",
        "x = sumTwo(3,5)\n",
        "print(x)"
      ],
      "metadata": {
        "colab": {
          "base_uri": "https://localhost:8080/"
        },
        "id": "6t5GaYpVDkv5",
        "outputId": "478828dc-1a4f-4131-8076-04b78829208e"
      },
      "execution_count": 29,
      "outputs": [
        {
          "output_type": "stream",
          "name": "stdout",
          "text": [
            "8\n"
          ]
        }
      ]
    },
    {
      "cell_type": "code",
      "execution_count": 40,
      "metadata": {
        "colab": {
          "base_uri": "https://localhost:8080/"
        },
        "outputId": "cbfcc8dc-e927-4e93-bca8-7411e671a38a",
        "id": "UTlfrW8XD62q"
      },
      "outputs": [
        {
          "output_type": "stream",
          "name": "stdout",
          "text": [
            "Enter a digit: 1\n",
            "Enter a digit: 2\n",
            "Enter a digit: 3\n",
            "Enter a digit: -1\n",
            "123\n"
          ]
        }
      ],
      "source": [
        "def getNumber():\n",
        "  return_num = 0\n",
        "\n",
        "  while(True):\n",
        "    try:\n",
        "      digit = int(input(\"Enter a digit: \"))\n",
        "    except Exception:\n",
        "      continue # not a number\n",
        "\n",
        "    if (digit < 0):\n",
        "      break # end\n",
        "    if (digit > 9):\n",
        "      continue # too large of a number ask again\n",
        "\n",
        "    return_num *= 10\n",
        "    return_num += digit\n",
        "\n",
        "  return return_num\n",
        "\n",
        "\n",
        "print(getNumber())"
      ]
    },
    {
      "cell_type": "code",
      "execution_count": 35,
      "metadata": {
        "colab": {
          "base_uri": "https://localhost:8080/"
        },
        "id": "fVMRk0BVCU6k",
        "outputId": "16617827-39df-41a9-b726-f7d186631d9b"
      },
      "outputs": [
        {
          "output_type": "stream",
          "name": "stdout",
          "text": [
            "10\n"
          ]
        }
      ],
      "source": [
        "import math\n",
        "\n",
        "# hella small, proud of this\n",
        "\n",
        "def sum_dig_recur(num: float, sum=0):\n",
        "  if num != 0:\n",
        "    return sum_dig_recur(num // 10, sum + num % 10)\n",
        "  return sum\n",
        "\n",
        "\n",
        "print(sum_dig_recur(10002030040)) # should output 1 + 2 + 3 + 4 = 10"
      ]
    },
    {
      "cell_type": "code",
      "execution_count": 9,
      "metadata": {
        "colab": {
          "base_uri": "https://localhost:8080/"
        },
        "outputId": "a52be665-5fc9-4c0e-ce80-3a0bfe882799",
        "id": "S4wiO4v5FwFL"
      },
      "outputs": [
        {
          "output_type": "stream",
          "name": "stdout",
          "text": [
            "\n",
            "Testing extreme values:\n",
            "167221297.836\n",
            "0.0\n",
            "-167221297.836\n",
            "\n",
            "Testing dollars for different countries:\n",
            "US 0.83610648918\n",
            "Korea 0.7069913589900001\n",
            "Italy 0.958578857453\n"
          ]
        }
      ],
      "source": [
        "import csv\n",
        "\n",
        "wage_data={}\n",
        "WAGE_DATA_PATH = \"/content/wage_data.csv\"\n",
        "\n",
        "# load the csv file\n",
        "with open(WAGE_DATA_PATH, newline='') as csvfile:\n",
        "  reader = csv.reader(csvfile)\n",
        "\n",
        "  # format it\n",
        "  for i, row in enumerate(reader):\n",
        "    if i < 3:\n",
        "      continue\n",
        "    wage_data[row[0].lower()] = float(row[1]) / 100\n",
        "\n",
        "def convertWageMtoW(mWage, country=\"united states\"):\n",
        "\n",
        "  wageGap = wage_data[country.lower()]\n",
        "  ratio = 1 - wageGap\n",
        "  return mWage * ratio\n",
        "\n",
        "\n",
        "# Testers for convertWageMtoW\n",
        "def wage_converter_test():\n",
        "  print(\"\\nTesting extreme values:\")\n",
        "  print(convertWageMtoW(2e8))\n",
        "  print(convertWageMtoW(0))\n",
        "  print(convertWageMtoW(-2e8))\n",
        "  print(\"\\nTesting dollars for different countries:\")\n",
        "  print(\"US\", convertWageMtoW(1, \"united states\"))\n",
        "  print(\"Korea\", convertWageMtoW(1, \"korea\"))\n",
        "  print(\"Italy\", convertWageMtoW(1, \"italy\"))\n",
        "\n",
        "wage_converter_test()"
      ]
    },
    {
      "cell_type": "code",
      "source": [
        "import random\n",
        "\n",
        "\n",
        "def console_hangman(word=\"\", words=[], lives=7, output=print):\n",
        "  if word == \"\" and len(words) == 0:\n",
        "    print(\"No word provided!\")\n",
        "\n",
        "  word = word if word != \"\" else words[random.randint(0, len(words) - 1)]\n",
        "\n",
        "\n",
        "  letters = '_' * len(word)\n",
        "\n",
        "  guessed_letters = []\n",
        "\n",
        "  def display_hangman():\n",
        "    output(\"\\n\\nCurrent Hangman:\")\n",
        "    for l in letters:\n",
        "      print(l, end=\" \")\n",
        "    print(f\"\\nGuessed Letters: {', '.join(guessed_letters)}\")\n",
        "\n",
        "  display_hangman()\n",
        "\n",
        "  while True:\n",
        "    # Fail logic\n",
        "    if (lives <= 0):\n",
        "      print(\"You're out of lives!\")\n",
        "      break\n",
        "\n",
        "    # Get the guess and make sure it works\n",
        "    guess = input(\"Guess a letter: \")\n",
        "    # protect against multiple letters and zero letters\n",
        "    if (len(guess) != 1):\n",
        "      continue\n",
        "    if (guess[0] == \"_\"):\n",
        "      continue\n",
        "    guess = guess[0]\n",
        "\n",
        "    # Look up the letter and respond\n",
        "    if guess in word and not guess in letters:\n",
        "      print(\"You guessed a correct letter!\")\n",
        "      letters = [c if c==guess or letters[i]!=\"_\" else \"_\" for i, c in enumerate(word)]\n",
        "    elif guess in letters:\n",
        "      print(\"You already guessed that letter.\")\n",
        "      continue\n",
        "    else:\n",
        "      if guess in guessed_letters:\n",
        "        print(\"You guessed that already.\")\n",
        "        continue\n",
        "      lives -= 1\n",
        "      print(f\"Sorry! Lives: {lives}\")\n",
        "      guessed_letters.append(guess)\n",
        "\n",
        "    if not \"_\" in letters:\n",
        "      print(f\"You won! The word was {word} and you had {lives} lives left.\")\n",
        "      break\n",
        "\n",
        "    display_hangman()\n",
        "\n",
        "console_hangman(\n",
        "    words=[ # chooses randomly\n",
        "        \"happy\",\n",
        "        \"bagel\",\n",
        "        \"email\",\n",
        "        \"knees\"\n",
        "    ]\n",
        ")\n"
      ],
      "metadata": {
        "colab": {
          "base_uri": "https://localhost:8080/"
        },
        "id": "IazdFbjEHRTZ",
        "outputId": "2c25a7c7-5b89-44ba-dc3e-007901508eaf"
      },
      "execution_count": null,
      "outputs": [
        {
          "metadata": {
            "tags": null
          },
          "name": "stdout",
          "output_type": "stream",
          "text": [
            "\n",
            "\n",
            "Current Hangman:\n",
            "_ _ _ _ _ \n",
            "Guessed Letters: \n",
            "Sorry! Lives: 6\n",
            "\n",
            "\n",
            "Current Hangman:\n",
            "_ _ _ _ _ \n",
            "Guessed Letters: x\n",
            "You guessed a correct letter!\n",
            "\n",
            "\n",
            "Current Hangman:\n",
            "_ _ _ _ y \n",
            "Guessed Letters: x\n",
            "Sorry! Lives: 5\n",
            "\n",
            "\n",
            "Current Hangman:\n",
            "_ _ _ _ y \n",
            "Guessed Letters: x, z\n"
          ]
        }
      ]
    },
    {
      "cell_type": "code",
      "source": [
        "def check_password(password):\n",
        "  letters_upper = \"ABCDEFGHIGKLMNOPQRSTUVWXYZ\"\n",
        "  letters_lower = letters_upper.lower()\n",
        "  digits = \"0123456789\"\n",
        "\n",
        "  if len(password) < 7:\n",
        "    return False\n",
        "\n",
        "  # to make sure we don't double count stuff\n",
        "  cont_upper, cont_lower, cont_dig, cont_symb = [False for i in range(4)]\n",
        "\n",
        "  counter = 0\n",
        "\n",
        "  for char in password:\n",
        "    # for debugging\n",
        "    #print(char, cont_upper, cont_lower, cont_dig, cont_symb)\n",
        "    if char in letters_upper and not cont_upper:\n",
        "      counter += 1\n",
        "      cont_upper = True\n",
        "    elif char in letters_lower and not cont_lower:\n",
        "      counter += 1\n",
        "      cont_lower = True\n",
        "    elif char in digits and not cont_dig:\n",
        "      counter += 1\n",
        "      cont_dig = True\n",
        "    elif not char in (letters_upper + letters_lower + digits) and not cont_symb:\n",
        "      counter += 1\n",
        "      cont_symb = True\n",
        "\n",
        "\n",
        "  return counter >= 3\n",
        "\n",
        "def test_password_checker():\n",
        "  if check_password(\"short\") != False:\n",
        "    print(\"Test failed\"); return\n",
        "  if check_password(\"onlylower\") != False:\n",
        "    print(\"Test failed\"); return\n",
        "  if check_password(\"lowerUPPER\") != False:\n",
        "    print(\"Test failed\"); return\n",
        "  if check_password(\"has_all_3\") != True:\n",
        "    print(\"Test failed\"); return\n",
        "  if check_password(\"has_all_THREE\") != True:\n",
        "    print(\"Test failed\"); return\n",
        "\n",
        "  print(\"All test passed\")\n",
        "\n",
        "\n",
        "test_password_checker()\n",
        ""
      ],
      "metadata": {
        "colab": {
          "base_uri": "https://localhost:8080/"
        },
        "id": "qR6qvo0jMkuR",
        "outputId": "0c1a8424-f651-4582-a144-c25751ba8224"
      },
      "execution_count": 41,
      "outputs": [
        {
          "output_type": "stream",
          "name": "stdout",
          "text": [
            "All test passed\n"
          ]
        }
      ]
    },
    {
      "cell_type": "code",
      "source": [
        "# import functools\n",
        "\n",
        "def rotate_string(string, step=0):\n",
        "  string_new = list(string)\n",
        "  for i, char in enumerate(string):\n",
        "    string_new[i] = string[(i+step+1) % len(string) - 1]\n",
        "  return \"\".join(string_new)\n",
        "  # return functools.reduce(lambda c1, c2: c1 + c2, string_new)\n",
        "\n",
        "rotate_string(\"this is a long word which is really not a single word\", 15)"
      ],
      "metadata": {
        "colab": {
          "base_uri": "https://localhost:8080/",
          "height": 35
        },
        "id": "WcaVz4bfUSvg",
        "outputId": "ab5ead41-0b18-4a08-ba85-9379ff639722"
      },
      "execution_count": 47,
      "outputs": [
        {
          "output_type": "execute_result",
          "data": {
            "text/plain": [
              "'word which is really not a single wordthis is a long '"
            ],
            "application/vnd.google.colaboratory.intrinsic+json": {
              "type": "string"
            }
          },
          "metadata": {},
          "execution_count": 47
        }
      ]
    },
    {
      "cell_type": "code",
      "source": [
        "def get_welcome_banner(name: str) -> str:\n",
        "  middle = f\"* Hello, {name}! Welcome to SPIS! :) *\"\n",
        "  edge = \"*\" * len(middle)\n",
        "  filler = f\"*{' ' * (len(middle) - 2)}*\" # minus 2 because the edge\n",
        "  return \"\\n\".join([edge, filler, middle, filler, edge]) # orginize them\n",
        "\n",
        "\n",
        "def print_welcome_banner(name: str) -> None:\n",
        "  print(get_welcome_banner(name))\n",
        "\n",
        "\n",
        "print_welcome_banner(\"ThisIsAVeryLongNameThatIsn'tReal\")"
      ],
      "metadata": {
        "colab": {
          "base_uri": "https://localhost:8080/"
        },
        "id": "jEDfZHAKP4N2",
        "outputId": "b03c2e04-eeb5-4a91-e05e-dccd46689329"
      },
      "execution_count": 39,
      "outputs": [
        {
          "output_type": "stream",
          "name": "stdout",
          "text": [
            "****************************************************************\n",
            "*                                                              *\n",
            "* Hello, ThisIsAVeryLongNameThatIsn'tReal! Welcome to SPIS! :) *\n",
            "*                                                              *\n",
            "****************************************************************\n"
          ]
        }
      ]
    },
    {
      "cell_type": "code",
      "source": [
        "import math\n",
        "\n",
        "def tri_force(base: int) -> None:\n",
        "  w = base * 2 + 2 - base%2 # based on the examples we want a 1 gap if there's an odd base and an 2 gap if theres an even base\n",
        "  h = math.ceil(w/2) # round up\n",
        "\n",
        "  for row in range(h):\n",
        "    for col in range(w):\n",
        "\n",
        "      in_up_tri = abs(col - (w-1)/2) < row + 1\n",
        "      in_down_tri = abs(col - (w-1)/2) < -row + h\n",
        "      in_lower_half = row+1 > h//2\n",
        "\n",
        "      if in_lower_half and in_down_tri or not in_up_tri:\n",
        "        print(\"-\", end=\" \")\n",
        "      else:\n",
        "        print(\"*\", end=\" \")\n",
        "\n",
        "    print(\"\")\n",
        "\n",
        "\n",
        "\n",
        "# whole thing in a list comprehension no semicolons for no reason\n",
        "def tri_force_compact(base: int):\n",
        "  [[print(\"-\" if row > (base * 2 + 2 - base%2)//4 and abs(col - (base * 2 + 1 - base%2)/2) < -row + math.ceil((base * 2 + 2 - base%2)/2) or abs(col - (base * 2 + 1 - base%2)/2) >= row + 1 else \"*\", end=\" \") for col in range(base * 2 + 2 - base%2)] if not print(\"\") else None for row in range(math.ceil((base * 2 + 2 - base%2)/2))]\n",
        "\n",
        "\n",
        "tri_force_compact(10)\n",
        "print(\"\\n\\n\\n\\n\")\n",
        "tri_force(11)"
      ],
      "metadata": {
        "colab": {
          "base_uri": "https://localhost:8080/"
        },
        "id": "qnSKwUeoDOWH",
        "outputId": "fd3f0eec-4dd9-4b09-fb94-81ac36f49175"
      },
      "execution_count": 44,
      "outputs": [
        {
          "output_type": "stream",
          "name": "stdout",
          "text": [
            "\n",
            "- - - - - - - - - - * * - - - - - - - - - - \n",
            "- - - - - - - - - * * * * - - - - - - - - - \n",
            "- - - - - - - - * * * * * * - - - - - - - - \n",
            "- - - - - - - * * * * * * * * - - - - - - - \n",
            "- - - - - - * * * * * * * * * * - - - - - - \n",
            "- - - - - * * * * * * * * * * * * - - - - - \n",
            "- - - - * * - - - - - - - - - - * * - - - - \n",
            "- - - * * * * - - - - - - - - * * * * - - - \n",
            "- - * * * * * * - - - - - - * * * * * * - - \n",
            "- * * * * * * * * - - - - * * * * * * * * - \n",
            "* * * * * * * * * * - - * * * * * * * * * * \n",
            "\n",
            "\n",
            "\n",
            "\n",
            "- - - - - - - - - - - * - - - - - - - - - - - \n",
            "- - - - - - - - - - * * * - - - - - - - - - - \n",
            "- - - - - - - - - * * * * * - - - - - - - - - \n",
            "- - - - - - - - * * * * * * * - - - - - - - - \n",
            "- - - - - - - * * * * * * * * * - - - - - - - \n",
            "- - - - - - * * * * * * * * * * * - - - - - - \n",
            "- - - - - * - - - - - - - - - - - * - - - - - \n",
            "- - - - * * * - - - - - - - - - * * * - - - - \n",
            "- - - * * * * * - - - - - - - * * * * * - - - \n",
            "- - * * * * * * * - - - - - * * * * * * * - - \n",
            "- * * * * * * * * * - - - * * * * * * * * * - \n",
            "* * * * * * * * * * * - * * * * * * * * * * * \n"
          ]
        }
      ]
    }
  ]
}